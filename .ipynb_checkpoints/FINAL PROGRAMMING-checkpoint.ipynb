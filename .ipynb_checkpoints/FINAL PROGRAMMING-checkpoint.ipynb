{
 "cells": [
  {
   "cell_type": "code",
   "execution_count": null,
   "metadata": {},
   "outputs": [],
   "source": [
    "def to_secs(time):\n",
    "    #take a string in \"M:S\" and turn it into an integer in seconds\n",
    "    in_secs = 0\n",
    "    time = time.split('.')[0]\n",
    "    split_time = time.split(':')\n",
    "    in_secs += int(split_time[0]) * 60\n",
    "    in_secs += int(split_time[1])\n",
    "    \n",
    "    return in_secs\n",
    "\n",
    "def summary_stats(data):\n",
    "\t#makes stats appear\n",
    "\tprint \"--- Summary Statistics ---\"\n",
    "\tprint \"mean:\\t\", np.mean(data)\n",
    "\tprint \"min:\\t\", min(data), \" max:\\t\", max(data)\n",
    "\tprint \"Percentiles (25, 75):\\t\", np.percentile(data, 25), \" \", np.percentile(data, 75)\n",
    "\tprint \"IQR:\\t\", np.percentile(data, 75) - np.percentile(data, 25)\n",
    "\treturn"
   ]
  }
 ],
 "metadata": {
  "kernelspec": {
   "display_name": "Python 2",
   "language": "python",
   "name": "python2"
  },
  "language_info": {
   "codemirror_mode": {
    "name": "ipython",
    "version": 2
   },
   "file_extension": ".py",
   "mimetype": "text/x-python",
   "name": "python",
   "nbconvert_exporter": "python",
   "pygments_lexer": "ipython2",
   "version": "2.7.14"
  }
 },
 "nbformat": 4,
 "nbformat_minor": 2
}
